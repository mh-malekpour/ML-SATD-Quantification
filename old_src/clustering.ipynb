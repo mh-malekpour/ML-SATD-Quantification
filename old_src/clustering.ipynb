{
 "cells": [
  {
   "cell_type": "code",
   "execution_count": null,
   "metadata": {},
   "outputs": [],
   "source": [
    "import pandas as pd\n",
    "import matplotlib.pyplot as plt\n",
    "from sklearn.manifold import TSNE\n",
    "from sklearn.cluster import KMeans\n",
    "from sklearn.preprocessing import StandardScaler\n",
    "\n",
    "# Assuming your data is in a DataFrame named 'data'\n",
    "# Replace this with your actual data or load it from a file\n",
    "df = pd.read_csv(r'D:\\Me\\concordia\\Notes\\SE4AI\\project\\Implementation\\Implementation-Git\\SOEN-691-Project\\Clustering-data.csv')\n",
    "\n",
    "# Create a DataFrame with only the relevant columns\n",
    "columns_of_interest = df[['Commits Between Start End', 'Lines of code changed', 'Complexity Involved' ,'Project size in KB']]\n",
    "df = pd.DataFrame(data, columns=columns_of_interest)\n",
    "\n",
    "# Standardize the data\n",
    "scaler = StandardScaler()\n",
    "scaled_data = scaler.fit_transform(df)\n",
    "\n",
    "# Apply t-SNE for dimensionality reduction\n",
    "tsne = TSNE(n_components=2, random_state=42)\n",
    "tsne_results = tsne.fit_transform(scaled_data)\n",
    "\n",
    "# Visualize the t-SNE results\n",
    "plt.scatter(tsne_results[:, 0], tsne_results[:, 1])\n",
    "plt.title('t-SNE Visualization')\n",
    "plt.xlabel('t-SNE Component 1')\n",
    "plt.ylabel('t-SNE Component 2')\n",
    "plt.show()\n",
    "\n",
    "# Perform clustering using K-Means\n",
    "kmeans = KMeans(n_clusters=5, random_state=42)\n",
    "df['Cluster'] = kmeans.fit_predict(scaled_data)\n",
    "\n",
    "# Display the clusters\n",
    "print(\"Clusters:\")\n",
    "print(df['Cluster'].value_counts())\n",
    "\n",
    "# Analyze the clusters and identify ML SATD types\n",
    "cluster_analysis = df.groupby('Cluster').mean()\n",
    "print(\"\\nCluster Analysis:\")\n",
    "print(cluster_analysis)\n",
    "\n",
    "# Identify ML SATD type that is hard to solve based on features\n",
    "# You can look at the clusters and their characteristics to make this determination\n"
   ]
  },
  {
   "cell_type": "code",
   "execution_count": null,
   "metadata": {},
   "outputs": [],
   "source": []
  }
 ],
 "metadata": {
  "language_info": {
   "name": "python"
  }
 },
 "nbformat": 4,
 "nbformat_minor": 2
}
