{
 "cells": [
  {
   "cell_type": "code",
   "execution_count": 3,
   "metadata": {},
   "outputs": [],
   "source": [
    "import pandas as pd\n",
    "from sklearn.preprocessing import MinMaxScaler\n",
    "\n",
    "df = pd.read_csv(\"./data/dataset_with_used_metric_v2.csv\")\n",
    "tmp_df = df[[\"NLC\",\"CS\",\"TFI\",\"ANL\",\"ANC\",\"AVT\",\"AVM\"]]"
   ]
  },
  {
   "cell_type": "code",
   "execution_count": 4,
   "metadata": {},
   "outputs": [
    {
     "name": "stdout",
     "output_type": "stream",
     "text": [
      "          NLC        CS       TFI       ANL       ANC       AVT       AVM\n",
      "0    0.013948  0.054864  0.086350  0.067391  0.041439  0.073208  0.053763\n",
      "1    0.007511  0.031109  0.108979  0.020050  0.017448  0.021286  0.043011\n",
      "2    0.025751  0.001697  0.009594  0.014202  0.018539  0.011013  0.032258\n",
      "3    0.019313  0.001697  0.005793  0.006683  0.002181  0.010902  0.021505\n",
      "4    0.347639  0.001697  0.002534  0.069340  0.074155  0.077014  0.279570\n",
      "..        ...       ...       ...       ...       ...       ...       ...\n",
      "104  0.006438  0.018665  0.049783  0.043163  0.049073  0.034331  0.021505\n",
      "105  0.442060  0.001697  0.042180  0.154832  0.212650  0.159571  0.096774\n",
      "106  0.442060  0.062783  0.074584  0.084935  0.041439  0.067184  0.236559\n",
      "107  0.046137  0.000566  0.654055  0.322194  0.164667  0.309941  0.021505\n",
      "108  0.086910  1.000000  0.932114  0.058758  0.088332  0.085772  0.064516\n",
      "\n",
      "[109 rows x 7 columns]\n"
     ]
    }
   ],
   "source": [
    "# Min-Max Normalization\n",
    "min_max_scaler = MinMaxScaler()\n",
    "df_min_max_scaled = pd.DataFrame(min_max_scaler.fit_transform(tmp_df), columns=tmp_df.columns)\n",
    "\n",
    "print(df_min_max_scaled)"
   ]
  },
  {
   "cell_type": "code",
   "execution_count": 5,
   "metadata": {},
   "outputs": [],
   "source": [
    "df[[\"NLC\",\"CS\",\"TFI\",\"ANL\",\"ANC\",\"AVT\",\"AVM\"]] = df_min_max_scaled"
   ]
  },
  {
   "cell_type": "code",
   "execution_count": 7,
   "metadata": {},
   "outputs": [],
   "source": [
    "df.to_csv(\"./data/dataset_with_normalized_used_metric_v2.csv\")"
   ]
  }
 ],
 "metadata": {
  "kernelspec": {
   "display_name": "Python 3",
   "language": "python",
   "name": "python3"
  },
  "language_info": {
   "codemirror_mode": {
    "name": "ipython",
    "version": 3
   },
   "file_extension": ".py",
   "mimetype": "text/x-python",
   "name": "python",
   "nbconvert_exporter": "python",
   "pygments_lexer": "ipython3",
   "version": "3.11.6"
  }
 },
 "nbformat": 4,
 "nbformat_minor": 2
}
